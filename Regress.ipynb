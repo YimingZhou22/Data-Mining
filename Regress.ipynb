{
 "cells": [
  {
   "cell_type": "code",
   "execution_count": 1,
   "metadata": {},
   "outputs": [],
   "source": [
    "import numpy as np\n",
    "from scipy import linalg\n"
   ]
  },
  {
   "cell_type": "code",
   "execution_count": 2,
   "metadata": {},
   "outputs": [],
   "source": [
    "def solve_sym(xtx, xty):\n",
    "    L = linalg.cholesky(xtx)\n",
    "    return linalg.lapack.dpotrs(L, xty)[0]\n",
    "\n",
    "def turnbits_rec(p):\n",
    "    if (p==1):\n",
    "        return np.array([[True, False], [True, False]])\n",
    "    else:\n",
    "        up = np.c_[turnbits_rec(p-1), np.array([False]*(2**(p-1))).reshape(2**(p-1), 1)]\n",
    "        down = np.c_[turnbits_rec(p-1), np.array([True]*(2**(p-1))).reshape(2**(p-1), 1)]\n",
    "        return np.r_[up, down]\n"
   ]
  },
  {
   "cell_type": "markdown",
   "metadata": {},
   "source": [
    " $C_p$, $AIC$和交叉验证的最优子集回归"
   ]
  },
  {
   "cell_type": "code",
   "execution_count": 3,
   "metadata": {},
   "outputs": [],
   "source": [
    "class BestSubsetsReg(object):\n",
    "    def __init__(self, x = 0, y = 0, inter = True, isCp = True, isAIC = True, isCV = True):\n",
    "        self.n, self.p = x.shape\n",
    "        if inter:\n",
    "            self.x = np.c_[np.ones((self.n, 1)), x]\n",
    "        else:\n",
    "            self.x = x\n",
    "        self.y = y\n",
    "        self.xx = np.dot(self.x.T, self.x)\n",
    "        self.xy = np.dot(self.x.T, self.y)\n",
    "        self.ind_var = turnbits_rec(self.p)\n",
    "        self.b = []\n",
    "        if isCp:\n",
    "            self.Cp = 0\n",
    "        if isAIC:\n",
    "            self.AIC = 0\n",
    "        if isCV:\n",
    "            self.CVerr = 0\n",
    "            \n",
    "    def reg(self):\n",
    "        self.b = [solve_sym(self.xx[ind][:,ind], self.xy[ind]) for ind in self.ind_var]\n",
    "        #return self.b\n",
    "        \n",
    "    def Cp_AIC(self,isCp = True, isAIC = True):\n",
    "        mse_tmp = [np.sum(np.dot(self.xx[ind][:,ind], beta) * beta) for ind, beta in zip(self.ind_var, self.b)]\n",
    "        rss = np.sum(self.y * self.y) - mse_tmp\n",
    "        d = np.sum(self.ind_var, axis = 1)\n",
    "        if isCp:\n",
    "            self.Cp = [rss + 2 * d * rss[-1]/(self.n - self.p - 1)]\n",
    "            min_Cp = np.argmin(self.Cp)\n",
    "            print([self.ind_var[min_Cp][1:]])\n",
    "        if isAIC:\n",
    "            self.AIC = self.n * np.log(rss) + 2 * d\n",
    "            min_AIC = np.argmin(self.AIC)\n",
    "            print([self.ind_var[min_AIC][1:]])\n",
    "        \n",
    "    def CVreg(self):\n",
    "        k = 10\n",
    "        indexs = np.array_split(np.random.permutation(np.arange(0, self.n)), k)\n",
    "        def cvk(ind, index):\n",
    "            txx = self.xx[ind][:,ind] - np.dot(self.x[index][:, ind].T, self.x[index][:, ind])\n",
    "            txy = self.xy[ind] - np.dot(self.x[index][:, ind].T, self.y[index])\n",
    "            tcoe = solve_sym(txx, txy)\n",
    "            return np.sum((self.y[index] - np.dot(self.x[index][:, ind], tcoe)) ** 2)\n",
    "        self.CVerr = np.sum(np.array([cvk(ind, index) for ind in self.ind_var for index in indexs]).reshape(2**self.p, k), axis = 1)/self.n\n",
    "        min_CV = np.argmin(self.CVerr)\n",
    "        return [self.ind_var[min_CV][1:]]"
   ]
  },
  {
   "cell_type": "markdown",
   "metadata": {},
   "source": [
    "测试使用类的输出结果"
   ]
  },
  {
   "cell_type": "code",
   "execution_count": 6,
   "metadata": {
    "scrolled": true
   },
   "outputs": [
    {
     "name": "stdout",
     "output_type": "stream",
     "text": [
      "[array([False, False, False, False, False, False,  True, False, False,\n",
      "       False])]\n",
      "[array([False, False, False, False, False, False,  True, False, False,\n",
      "       False])]\n"
     ]
    },
    {
     "data": {
      "text/plain": [
       "[array([False, False, False, False, False, False,  True, False, False,\n",
       "        False])]"
      ]
     },
     "execution_count": 6,
     "metadata": {},
     "output_type": "execute_result"
    }
   ],
   "source": [
    "x = np.random.rand(1000*10).reshape(1000, 10)\n",
    "y = np.random.rand(1000)\n",
    "ex_1 = BestSubsetsReg(x, y)\n",
    "ex_1.reg()\n",
    "ex_1.Cp_AIC()\n",
    "ex_1.CVreg()"
   ]
  },
  {
   "cell_type": "code",
   "execution_count": 5,
   "metadata": {},
   "outputs": [
    {
     "name": "stdout",
     "output_type": "stream",
     "text": [
      "[array([False,  True, False, False,  True,  True,  True, False])]\n",
      "[array([False,  True, False, False,  True,  True,  True, False])]\n"
     ]
    },
    {
     "data": {
      "text/plain": [
       "[array([False,  True, False, False,  True,  True,  True, False])]"
      ]
     },
     "execution_count": 5,
     "metadata": {},
     "output_type": "execute_result"
    }
   ],
   "source": [
    "import os\n",
    "import sys\n",
    "os.chdir(\"E:/Data Mining/0306/Best Subset Regression\")\n",
    "ex_2_x = np.loadtxt(\"./prostate/x.txt\", delimiter=\",\")\n",
    "ex_2_y = np.loadtxt(\"./prostate/y.txt\", delimiter=\",\")\n",
    "\n",
    "ex_2 = BestSubsetsReg(ex_2_x, ex_2_y)\n",
    "ex_2.reg()\n",
    "ex_2.Cp_AIC()\n",
    "ex_2.CVreg()"
   ]
  }
 ],
 "metadata": {
  "kernelspec": {
   "display_name": "Python 3",
   "language": "python",
   "name": "python3"
  },
  "language_info": {
   "codemirror_mode": {
    "name": "ipython",
    "version": 3
   },
   "file_extension": ".py",
   "mimetype": "text/x-python",
   "name": "python",
   "nbconvert_exporter": "python",
   "pygments_lexer": "ipython3",
   "version": "3.7.4"
  }
 },
 "nbformat": 4,
 "nbformat_minor": 2
}
